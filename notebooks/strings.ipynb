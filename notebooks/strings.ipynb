{
 "cells": [
  {
   "cell_type": "markdown",
   "id": "de8eacf2",
   "metadata": {},
   "source": [
    "Single Quote and double quotes"
   ]
  },
  {
   "cell_type": "code",
   "execution_count": 1,
   "id": "4d65b9d8",
   "metadata": {},
   "outputs": [
    {
     "name": "stdout",
     "output_type": "stream",
     "text": [
      "Hello World!\n"
     ]
    }
   ],
   "source": [
    "s=\"Hello World!\"\n",
    "print(s)"
   ]
  },
  {
   "cell_type": "code",
   "execution_count": 2,
   "id": "3f6d672c",
   "metadata": {},
   "outputs": [
    {
     "name": "stdout",
     "output_type": "stream",
     "text": [
      "Hello World!\n"
     ]
    }
   ],
   "source": [
    "t='Hello World!'\n",
    "print(t)"
   ]
  },
  {
   "cell_type": "code",
   "execution_count": 3,
   "id": "8e3cc5b2",
   "metadata": {},
   "outputs": [
    {
     "name": "stdout",
     "output_type": "stream",
     "text": [
      "True\n"
     ]
    }
   ],
   "source": [
    "print(s==t)"
   ]
  },
  {
   "cell_type": "code",
   "execution_count": 4,
   "id": "8744d092",
   "metadata": {},
   "outputs": [
    {
     "name": "stdout",
     "output_type": "stream",
     "text": [
      "What's your name?\n"
     ]
    }
   ],
   "source": [
    "s2 = \"What's your name?\"\n",
    "print(s2)"
   ]
  },
  {
   "cell_type": "markdown",
   "id": "a7b93b30",
   "metadata": {},
   "source": [
    "Triple Quotes"
   ]
  },
  {
   "cell_type": "code",
   "execution_count": 5,
   "id": "6f6b7534",
   "metadata": {},
   "outputs": [],
   "source": [
    "name='Eric'\n",
    "age=74"
   ]
  },
  {
   "cell_type": "code",
   "execution_count": 6,
   "id": "86ca1325",
   "metadata": {},
   "outputs": [],
   "source": [
    "s3=f'Hello, {name}. You are {age}.'"
   ]
  },
  {
   "cell_type": "code",
   "execution_count": 7,
   "id": "5d0ef6ed",
   "metadata": {},
   "outputs": [
    {
     "name": "stdout",
     "output_type": "stream",
     "text": [
      "Hello, Eric. You are 74.\n"
     ]
    }
   ],
   "source": [
    "print(s3)"
   ]
  },
  {
   "cell_type": "code",
   "execution_count": 8,
   "id": "b82b602e",
   "metadata": {},
   "outputs": [],
   "source": [
    "age=75"
   ]
  },
  {
   "cell_type": "code",
   "execution_count": 9,
   "id": "0cf34a94",
   "metadata": {},
   "outputs": [
    {
     "name": "stdout",
     "output_type": "stream",
     "text": [
      "Hello, Eric. You are 74.\n"
     ]
    }
   ],
   "source": [
    "print(s3)"
   ]
  }
 ],
 "metadata": {
  "kernelspec": {
   "display_name": "Python 3 (ipykernel)",
   "language": "python",
   "name": "python3"
  },
  "language_info": {
   "codemirror_mode": {
    "name": "ipython",
    "version": 3
   },
   "file_extension": ".py",
   "mimetype": "text/x-python",
   "name": "python",
   "nbconvert_exporter": "python",
   "pygments_lexer": "ipython3",
   "version": "3.9.12"
  }
 },
 "nbformat": 4,
 "nbformat_minor": 5
}
