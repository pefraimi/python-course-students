{
 "cells": [
  {
   "cell_type": "markdown",
   "id": "5fc3811d",
   "metadata": {},
   "source": [
    "Reading user input"
   ]
  },
  {
   "cell_type": "code",
   "execution_count": 3,
   "id": "962c464c",
   "metadata": {},
   "outputs": [
    {
     "name": "stdout",
     "output_type": "stream",
     "text": [
      "Enter your name:Paul\n",
      "Hello Paul\n",
      "Hello Paul\n"
     ]
    }
   ],
   "source": [
    "name = input(\"Enter your name:\")\n",
    "print(\"Hello \" + name)\n",
    "print(f\"Hello {name}\")"
   ]
  },
  {
   "cell_type": "markdown",
   "id": "227dad3d",
   "metadata": {},
   "source": [
    "The output of the input function is always a string."
   ]
  },
  {
   "cell_type": "markdown",
   "id": "b542bc2c",
   "metadata": {},
   "source": [
    "The following example will cause an exception."
   ]
  },
  {
   "cell_type": "code",
   "execution_count": 4,
   "id": "426b1a6e",
   "metadata": {},
   "outputs": [
    {
     "name": "stdout",
     "output_type": "stream",
     "text": [
      "Enter your age:52\n"
     ]
    },
    {
     "ename": "TypeError",
     "evalue": "'>=' not supported between instances of 'str' and 'int'",
     "output_type": "error",
     "traceback": [
      "\u001b[1;31m---------------------------------------------------------------------------\u001b[0m",
      "\u001b[1;31mTypeError\u001b[0m                                 Traceback (most recent call last)",
      "Cell \u001b[1;32mIn [4], line 2\u001b[0m\n\u001b[0;32m      1\u001b[0m age \u001b[38;5;241m=\u001b[39m \u001b[38;5;28minput\u001b[39m(\u001b[38;5;124m\"\u001b[39m\u001b[38;5;124mEnter your age:\u001b[39m\u001b[38;5;124m\"\u001b[39m)\n\u001b[1;32m----> 2\u001b[0m \u001b[38;5;28;01mif\u001b[39;00m \u001b[43mage\u001b[49m\u001b[43m \u001b[49m\u001b[38;5;241;43m>\u001b[39;49m\u001b[38;5;241;43m=\u001b[39;49m\u001b[43m \u001b[49m\u001b[38;5;241;43m18\u001b[39;49m:\n\u001b[0;32m      3\u001b[0m     \u001b[38;5;28mprint\u001b[39m(\u001b[38;5;124m'\u001b[39m\u001b[38;5;124mYou are an adult\u001b[39m\u001b[38;5;124m'\u001b[39m)\n",
      "\u001b[1;31mTypeError\u001b[0m: '>=' not supported between instances of 'str' and 'int'"
     ]
    }
   ],
   "source": [
    "age = input(\"Enter your age:\")\n",
    "if age >= 18:\n",
    "    print('You are an adult')"
   ]
  },
  {
   "cell_type": "markdown",
   "id": "586555ae",
   "metadata": {},
   "source": [
    "The return value of function 'input' has to be casted to an integer value."
   ]
  },
  {
   "cell_type": "code",
   "execution_count": 5,
   "id": "e260055f",
   "metadata": {},
   "outputs": [
    {
     "name": "stdout",
     "output_type": "stream",
     "text": [
      "Enter your age:55\n",
      "You are an adult\n"
     ]
    }
   ],
   "source": [
    "age_as_string = input(\"Enter your age:\")\n",
    "age = int(age_as_string)\n",
    "if age >= 18:\n",
    "    print('You are an adult')"
   ]
  },
  {
   "cell_type": "markdown",
   "id": "05243f9a",
   "metadata": {},
   "source": [
    "Input and cast in one statement"
   ]
  },
  {
   "cell_type": "code",
   "execution_count": null,
   "id": "a922d5a8",
   "metadata": {},
   "outputs": [],
   "source": [
    "age = int(input(\"Enter your age:\"))\n",
    "if age >= 18:\n",
    "    print('You are an adult')"
   ]
  },
  {
   "cell_type": "markdown",
   "id": "39551f05",
   "metadata": {},
   "source": [
    "We can still have an exception, if for example the user types in a fractional number (e.g. 10.2) or a non-number (e.g. 'Hi')"
   ]
  },
  {
   "cell_type": "code",
   "execution_count": 8,
   "id": "4b138fd3",
   "metadata": {},
   "outputs": [
    {
     "name": "stdout",
     "output_type": "stream",
     "text": [
      "Enter your age:Hi\n"
     ]
    },
    {
     "ename": "ValueError",
     "evalue": "invalid literal for int() with base 10: 'Hi'",
     "output_type": "error",
     "traceback": [
      "\u001b[1;31m---------------------------------------------------------------------------\u001b[0m",
      "\u001b[1;31mValueError\u001b[0m                                Traceback (most recent call last)",
      "Cell \u001b[1;32mIn [8], line 1\u001b[0m\n\u001b[1;32m----> 1\u001b[0m age \u001b[38;5;241m=\u001b[39m \u001b[38;5;28;43mint\u001b[39;49m\u001b[43m(\u001b[49m\u001b[38;5;28;43minput\u001b[39;49m\u001b[43m(\u001b[49m\u001b[38;5;124;43m\"\u001b[39;49m\u001b[38;5;124;43mEnter your age:\u001b[39;49m\u001b[38;5;124;43m\"\u001b[39;49m\u001b[43m)\u001b[49m\u001b[43m)\u001b[49m\n\u001b[0;32m      2\u001b[0m \u001b[38;5;28;01mif\u001b[39;00m age \u001b[38;5;241m>\u001b[39m\u001b[38;5;241m=\u001b[39m \u001b[38;5;241m18\u001b[39m:\n\u001b[0;32m      3\u001b[0m     \u001b[38;5;28mprint\u001b[39m(\u001b[38;5;124m'\u001b[39m\u001b[38;5;124mYou are an adult\u001b[39m\u001b[38;5;124m'\u001b[39m)\n",
      "\u001b[1;31mValueError\u001b[0m: invalid literal for int() with base 10: 'Hi'"
     ]
    }
   ],
   "source": [
    "age = int(input(\"Enter your age:\"))\n",
    "if age >= 18:\n",
    "    print('You are an adult')"
   ]
  },
  {
   "cell_type": "markdown",
   "id": "ab2c1d32",
   "metadata": {},
   "source": [
    "We can make our code fault-tolerant with Exception handling. \n",
    "For example"
   ]
  },
  {
   "cell_type": "code",
   "execution_count": 12,
   "id": "f6da8619",
   "metadata": {},
   "outputs": [
    {
     "name": "stdout",
     "output_type": "stream",
     "text": [
      "Enter your age:Hi\n",
      "You have entered an invalid value\n"
     ]
    }
   ],
   "source": [
    "try:\n",
    "    age = int(input(\"Enter your age:\"))\n",
    "    if age >= 18:\n",
    "        print('You are an adult')\n",
    "except ValueError:    \n",
    "    print(\"You have entered an invalid value\")\n"
   ]
  },
  {
   "cell_type": "markdown",
   "id": "ee198a03",
   "metadata": {},
   "source": [
    "We can insist until the user enters a valid value"
   ]
  },
  {
   "cell_type": "code",
   "execution_count": 14,
   "id": "c4ce0962",
   "metadata": {},
   "outputs": [
    {
     "name": "stdout",
     "output_type": "stream",
     "text": [
      "Enter your age:23.2\n",
      "You have entered an invalid value\n",
      "Enter your age:12\n"
     ]
    }
   ],
   "source": [
    "while True:\n",
    "    try:\n",
    "        age = int(input(\"Enter your age:\"))\n",
    "        break\n",
    "    except ValueError:    \n",
    "        print(\"You have entered an invalid value\")\n",
    "\n",
    "if age >= 18:\n",
    "    print('You are an adult')\n"
   ]
  },
  {
   "cell_type": "code",
   "execution_count": null,
   "id": "7a5b10ab",
   "metadata": {},
   "outputs": [],
   "source": []
  }
 ],
 "metadata": {
  "kernelspec": {
   "display_name": "Python 3 (ipykernel)",
   "language": "python",
   "name": "python3"
  },
  "language_info": {
   "codemirror_mode": {
    "name": "ipython",
    "version": 3
   },
   "file_extension": ".py",
   "mimetype": "text/x-python",
   "name": "python",
   "nbconvert_exporter": "python",
   "pygments_lexer": "ipython3",
   "version": "3.9.12"
  }
 },
 "nbformat": 4,
 "nbformat_minor": 5
}
