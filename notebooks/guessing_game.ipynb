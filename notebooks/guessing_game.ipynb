{
 "cells": [
  {
   "cell_type": "code",
   "execution_count": 6,
   "id": "133bf9a4",
   "metadata": {},
   "outputs": [
    {
     "name": "stdout",
     "output_type": "stream",
     "text": [
      "Guess a number between 1 and 20\n",
      "Your guess: 5\n",
      "The hidden number is larger than 5\n",
      "Your guess: 14\n",
      "The hidden number is larger than 14\n",
      "Your guess: 18\n",
      "The hidden number is smaller than 18\n",
      "Your guess: 16\n",
      "The hidden number is smaller than 16\n",
      "Your guess: 15\n",
      "Correct!\n",
      "You found the number with 5 guesses\n"
     ]
    }
   ],
   "source": [
    "# A simple guessing game\n",
    "\n",
    "import random\n",
    "import sys\n",
    "\n",
    "LOWER_BOUND = 1\n",
    "UPPER_BOUND = 20\n",
    "MAX_NUM_OF_GUESSES = 10\n",
    "\n",
    "print(f'Guess a number between {LOWER_BOUND} and {UPPER_BOUND}')\n",
    "\n",
    "x = random.randint(LOWER_BOUND, UPPER_BOUND)\n",
    "\n",
    "num_of_guesses = 0\n",
    "\n",
    "while num_of_guesses < MAX_NUM_OF_GUESSES:\n",
    "    g = int(input('Your guess: '))\n",
    "    num_of_guesses += 1\n",
    "    if g == x:\n",
    "        print('Correct!')\n",
    "        print(f'You found the number with {num_of_guesses} guesses')\n",
    "        #sys.exit((0))\n",
    "        break\n",
    "    elif g < x:\n",
    "        print(f'The hidden number is larger than {g}')\n",
    "    else:\n",
    "        print(f'The hidden number is smaller than {g}')"
   ]
  },
  {
   "cell_type": "code",
   "execution_count": 5,
   "id": "56814ab2",
   "metadata": {},
   "outputs": [
    {
     "ename": "SystemExit",
     "evalue": "0",
     "output_type": "error",
     "traceback": [
      "\u001b[1;31m---------------------------------------------------------------------------\u001b[0m",
      "\u001b[1;31mSystemExit\u001b[0m                                Traceback (most recent call last)",
      "Cell \u001b[1;32mIn [4], line 22\u001b[0m\n\u001b[0;32m     20\u001b[0m     \u001b[38;5;28mprint\u001b[39m(\u001b[38;5;124m'\u001b[39m\u001b[38;5;124mCorrect!\u001b[39m\u001b[38;5;124m'\u001b[39m)\n\u001b[0;32m     21\u001b[0m     \u001b[38;5;28mprint\u001b[39m(\u001b[38;5;124mf\u001b[39m\u001b[38;5;124m'\u001b[39m\u001b[38;5;124mYou found the number with \u001b[39m\u001b[38;5;132;01m{\u001b[39;00mnum_of_guesses\u001b[38;5;132;01m}\u001b[39;00m\u001b[38;5;124m guesses\u001b[39m\u001b[38;5;124m'\u001b[39m)\n\u001b[1;32m---> 22\u001b[0m     \u001b[43msys\u001b[49m\u001b[38;5;241;43m.\u001b[39;49m\u001b[43mexit\u001b[49m\u001b[43m(\u001b[49m\u001b[43m(\u001b[49m\u001b[38;5;241;43m0\u001b[39;49m\u001b[43m)\u001b[49m\u001b[43m)\u001b[49m\n\u001b[0;32m     23\u001b[0m \u001b[38;5;28;01melif\u001b[39;00m g \u001b[38;5;241m<\u001b[39m x:\n\u001b[0;32m     24\u001b[0m     \u001b[38;5;28mprint\u001b[39m(\u001b[38;5;124mf\u001b[39m\u001b[38;5;124m'\u001b[39m\u001b[38;5;124mThe hidden number is larger than \u001b[39m\u001b[38;5;132;01m{\u001b[39;00mg\u001b[38;5;132;01m}\u001b[39;00m\u001b[38;5;124m'\u001b[39m)\n",
      "\u001b[1;31mSystemExit\u001b[0m: 0"
     ]
    }
   ],
   "source": [
    "%tb"
   ]
  },
  {
   "cell_type": "code",
   "execution_count": null,
   "id": "c4ccbdc9",
   "metadata": {},
   "outputs": [],
   "source": []
  }
 ],
 "metadata": {
  "kernelspec": {
   "display_name": "Python 3 (ipykernel)",
   "language": "python",
   "name": "python3"
  },
  "language_info": {
   "codemirror_mode": {
    "name": "ipython",
    "version": 3
   },
   "file_extension": ".py",
   "mimetype": "text/x-python",
   "name": "python",
   "nbconvert_exporter": "python",
   "pygments_lexer": "ipython3",
   "version": "3.9.12"
  }
 },
 "nbformat": 4,
 "nbformat_minor": 5
}
