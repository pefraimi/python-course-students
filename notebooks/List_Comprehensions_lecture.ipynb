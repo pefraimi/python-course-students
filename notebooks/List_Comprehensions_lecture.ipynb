{
 "cells": [
  {
   "cell_type": "markdown",
   "id": "7cff0ff0",
   "metadata": {},
   "source": [
    "List Comprehensions"
   ]
  },
  {
   "cell_type": "code",
   "execution_count": 1,
   "id": "8b1be9a9",
   "metadata": {},
   "outputs": [],
   "source": [
    "L = [1, 2, 3, 4, 5]"
   ]
  },
  {
   "cell_type": "code",
   "execution_count": 4,
   "id": "04316144",
   "metadata": {},
   "outputs": [
    {
     "name": "stdout",
     "output_type": "stream",
     "text": [
      "5\n"
     ]
    }
   ],
   "source": [
    "print(len(L))"
   ]
  },
  {
   "cell_type": "code",
   "execution_count": 5,
   "id": "c735cfb2",
   "metadata": {},
   "outputs": [
    {
     "data": {
      "text/plain": [
       "[0, 1, 2, 3, 4]"
      ]
     },
     "execution_count": 5,
     "metadata": {},
     "output_type": "execute_result"
    }
   ],
   "source": [
    "list(range(len(L)))"
   ]
  },
  {
   "cell_type": "code",
   "execution_count": 11,
   "id": "0c6df4ff",
   "metadata": {},
   "outputs": [
    {
     "data": {
      "text/plain": [
       "range(0, 5)"
      ]
     },
     "execution_count": 11,
     "metadata": {},
     "output_type": "execute_result"
    }
   ],
   "source": [
    "range(len(L))"
   ]
  },
  {
   "cell_type": "code",
   "execution_count": 6,
   "id": "663dd9a0",
   "metadata": {},
   "outputs": [],
   "source": [
    "for i in range(len(L)):\n",
    "    L[i] += 10"
   ]
  },
  {
   "cell_type": "code",
   "execution_count": 7,
   "id": "c831412b",
   "metadata": {},
   "outputs": [
    {
     "data": {
      "text/plain": [
       "[11, 12, 13, 14, 15]"
      ]
     },
     "execution_count": 7,
     "metadata": {},
     "output_type": "execute_result"
    }
   ],
   "source": [
    "L"
   ]
  },
  {
   "cell_type": "code",
   "execution_count": 8,
   "id": "6f757277",
   "metadata": {},
   "outputs": [],
   "source": [
    "L = [1, 2, 3, 4, 5]"
   ]
  },
  {
   "cell_type": "code",
   "execution_count": 9,
   "id": "01ddddeb",
   "metadata": {},
   "outputs": [],
   "source": [
    "L = [i+10 for i in L]"
   ]
  },
  {
   "cell_type": "code",
   "execution_count": 10,
   "id": "a8402fb9",
   "metadata": {},
   "outputs": [
    {
     "data": {
      "text/plain": [
       "[11, 12, 13, 14, 15]"
      ]
     },
     "execution_count": 10,
     "metadata": {},
     "output_type": "execute_result"
    }
   ],
   "source": [
    "L"
   ]
  },
  {
   "cell_type": "code",
   "execution_count": 12,
   "id": "3a0493bb",
   "metadata": {},
   "outputs": [],
   "source": [
    "mySet = {1, 4, 15, 2, 9}"
   ]
  },
  {
   "cell_type": "code",
   "execution_count": 13,
   "id": "bfcaecc4",
   "metadata": {},
   "outputs": [],
   "source": [
    "myList = [i+10 for i in mySet]"
   ]
  },
  {
   "cell_type": "code",
   "execution_count": 14,
   "id": "6c86d956",
   "metadata": {},
   "outputs": [
    {
     "data": {
      "text/plain": [
       "[11, 12, 14, 19, 25]"
      ]
     },
     "execution_count": 14,
     "metadata": {},
     "output_type": "execute_result"
    }
   ],
   "source": [
    "myList"
   ]
  },
  {
   "cell_type": "code",
   "execution_count": 15,
   "id": "a0e36338",
   "metadata": {},
   "outputs": [],
   "source": [
    "myString = \"Hello World!\"\n",
    "chList = [ch for ch in myString]"
   ]
  },
  {
   "cell_type": "code",
   "execution_count": 16,
   "id": "34acaf03",
   "metadata": {},
   "outputs": [
    {
     "data": {
      "text/plain": [
       "['H', 'e', 'l', 'l', 'o', ' ', 'W', 'o', 'r', 'l', 'd', '!']"
      ]
     },
     "execution_count": 16,
     "metadata": {},
     "output_type": "execute_result"
    }
   ],
   "source": [
    "chList"
   ]
  },
  {
   "cell_type": "code",
   "execution_count": 17,
   "id": "6c448763",
   "metadata": {},
   "outputs": [],
   "source": [
    "chList2 = [ch for ch in myString if ch!='l']"
   ]
  },
  {
   "cell_type": "code",
   "execution_count": 18,
   "id": "0628811d",
   "metadata": {},
   "outputs": [
    {
     "data": {
      "text/plain": [
       "['H', 'e', 'o', ' ', 'W', 'o', 'r', 'd', '!']"
      ]
     },
     "execution_count": 18,
     "metadata": {},
     "output_type": "execute_result"
    }
   ],
   "source": [
    "chList2"
   ]
  },
  {
   "cell_type": "code",
   "execution_count": 19,
   "id": "2a4ad7df",
   "metadata": {},
   "outputs": [],
   "source": [
    "newList = [[num for num in range(10)] for sublist in range(3)]"
   ]
  },
  {
   "cell_type": "code",
   "execution_count": 20,
   "id": "8e413485",
   "metadata": {},
   "outputs": [
    {
     "data": {
      "text/plain": [
       "[[0, 1, 2, 3, 4, 5, 6, 7, 8, 9],\n",
       " [0, 1, 2, 3, 4, 5, 6, 7, 8, 9],\n",
       " [0, 1, 2, 3, 4, 5, 6, 7, 8, 9]]"
      ]
     },
     "execution_count": 20,
     "metadata": {},
     "output_type": "execute_result"
    }
   ],
   "source": [
    "newList"
   ]
  },
  {
   "cell_type": "code",
   "execution_count": null,
   "id": "86d80d2d",
   "metadata": {},
   "outputs": [],
   "source": []
  }
 ],
 "metadata": {
  "kernelspec": {
   "display_name": "Python 3 (ipykernel)",
   "language": "python",
   "name": "python3"
  },
  "language_info": {
   "codemirror_mode": {
    "name": "ipython",
    "version": 3
   },
   "file_extension": ".py",
   "mimetype": "text/x-python",
   "name": "python",
   "nbconvert_exporter": "python",
   "pygments_lexer": "ipython3",
   "version": "3.9.13"
  }
 },
 "nbformat": 4,
 "nbformat_minor": 5
}
