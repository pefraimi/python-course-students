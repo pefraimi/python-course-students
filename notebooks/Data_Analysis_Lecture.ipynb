{
 "cells": [
  {
   "cell_type": "markdown",
   "id": "9c5fa0b4",
   "metadata": {},
   "source": [
    "Data Analysis\n",
    "Pandas (Python Data Analysis Library)\n",
    "\n",
    "Material from:\n",
    "https://www.learndatasci.com/tutorials/python-pandas-tutorial-complete-introduction-for-beginners/"
   ]
  },
  {
   "cell_type": "code",
   "execution_count": 1,
   "id": "5bb0e083",
   "metadata": {},
   "outputs": [
    {
     "name": "stdout",
     "output_type": "stream",
     "text": [
      "Requirement already satisfied: pandas in c:\\program files\\python310\\lib\\site-packages (1.5.2)\n",
      "Requirement already satisfied: pytz>=2020.1 in c:\\program files\\python310\\lib\\site-packages (from pandas) (2022.7.1)\n",
      "Requirement already satisfied: numpy>=1.21.0 in c:\\program files\\python310\\lib\\site-packages (from pandas) (1.24.1)\n",
      "Requirement already satisfied: python-dateutil>=2.8.1 in c:\\program files\\python310\\lib\\site-packages (from pandas) (2.8.2)\n",
      "Requirement already satisfied: six>=1.5 in c:\\program files\\python310\\lib\\site-packages (from python-dateutil>=2.8.1->pandas) (1.16.0)\n",
      "Collecting pysqlite3\n",
      "  Using cached pysqlite3-0.5.0.tar.gz (40 kB)\n",
      "  Preparing metadata (setup.py): started\n",
      "  Preparing metadata (setup.py): finished with status 'done'\n",
      "Installing collected packages: pysqlite3\n",
      "  Running setup.py install for pysqlite3: started\n",
      "  Running setup.py install for pysqlite3: finished with status 'error'\n"
     ]
    },
    {
     "name": "stderr",
     "output_type": "stream",
     "text": [
      "  DEPRECATION: pysqlite3 is being installed using the legacy 'setup.py install' method, because it does not have a 'pyproject.toml' and the 'wheel' package is not installed. pip 23.1 will enforce this behaviour change. A possible replacement is to enable the '--use-pep517' option. Discussion can be found at https://github.com/pypa/pip/issues/8559\n",
      "  error: subprocess-exited-with-error\n",
      "  \n",
      "  Running setup.py install for pysqlite3 did not run successfully.\n",
      "  exit code: 1\n",
      "  \n",
      "  [20 lines of output]\n",
      "  running install\n",
      "  C:\\Program Files\\Python310\\lib\\site-packages\\setuptools\\command\\install.py:34: SetuptoolsDeprecationWarning: setup.py install is deprecated. Use build and pip and other standards-based tools.\n",
      "    warnings.warn(\n",
      "  running build\n",
      "  running build_py\n",
      "  creating build\n",
      "  creating build\\lib.win-amd64-cpython-310\n",
      "  creating build\\lib.win-amd64-cpython-310\\pysqlite3\n",
      "  copying pysqlite3\\dbapi2.py -> build\\lib.win-amd64-cpython-310\\pysqlite3\n",
      "  copying pysqlite3\\__init__.py -> build\\lib.win-amd64-cpython-310\\pysqlite3\n",
      "  running build_ext\n",
      "  Builds a C extension linking against libsqlite3 library\n",
      "  building 'pysqlite3._sqlite3' extension\n",
      "  creating build\\temp.win-amd64-cpython-310\n",
      "  creating build\\temp.win-amd64-cpython-310\\Release\n",
      "  creating build\\temp.win-amd64-cpython-310\\Release\\src\n",
      "  \"C:\\Program Files (x86)\\Microsoft Visual Studio\\2019\\Community\\VC\\Tools\\MSVC\\14.28.29910\\bin\\HostX86\\x64\\cl.exe\" /c /nologo /O2 /W3 /GL /DNDEBUG /MD -DMODULE_NAME=\\\"pysqlite3.dbapi2\\\" -I/usr/include \"-IC:\\Program Files\\Python310\\include\" \"-IC:\\Program Files\\Python310\\Include\" \"-IC:\\Program Files (x86)\\Microsoft Visual Studio\\2019\\Community\\VC\\Tools\\MSVC\\14.28.29910\\include\" \"-IC:\\Program Files (x86)\\Windows Kits\\10\\include\\10.0.19041.0\\ucrt\" \"-IC:\\Program Files (x86)\\Windows Kits\\10\\include\\10.0.19041.0\\shared\" \"-IC:\\Program Files (x86)\\Windows Kits\\10\\include\\10.0.19041.0\\um\" \"-IC:\\Program Files (x86)\\Windows Kits\\10\\include\\10.0.19041.0\\winrt\" \"-IC:\\Program Files (x86)\\Windows Kits\\10\\include\\10.0.19041.0\\cppwinrt\" /Tcsrc\\blob.c /Fobuild\\temp.win-amd64-cpython-310\\Release\\src\\blob.obj\n",
      "  blob.c\n",
      "  C:\\Users\\pavlos.IONIA\\AppData\\Local\\Temp\\pip-install-p0w503pi\\pysqlite3_82fd39718fe0448e8ee50721c810fb92\\src\\blob.h(4): fatal error C1083: Cannot open include file: 'sqlite3.h': No such file or directory\n",
      "  error: command 'C:\\\\Program Files (x86)\\\\Microsoft Visual Studio\\\\2019\\\\Community\\\\VC\\\\Tools\\\\MSVC\\\\14.28.29910\\\\bin\\\\HostX86\\\\x64\\\\cl.exe' failed with exit code 2\n",
      "  [end of output]\n",
      "  \n",
      "  note: This error originates from a subprocess, and is likely not a problem with pip.\n",
      "error: legacy-install-failure\n",
      "\n",
      "Encountered error while trying to install package.\n",
      "\n",
      "pysqlite3\n",
      "\n",
      "note: This is an issue with the package mentioned above, not pip.\n",
      "hint: See above for output from the failure.\n"
     ]
    }
   ],
   "source": [
    "!pip install pandas\n",
    "!pip install pysqlite3"
   ]
  },
  {
   "cell_type": "code",
   "execution_count": 2,
   "id": "782c71cf",
   "metadata": {},
   "outputs": [
    {
     "name": "stdout",
     "output_type": "stream",
     "text": [
      "Requirement already satisfied: pip in c:\\program files\\python310\\lib\\site-packages (23.0)\n"
     ]
    }
   ],
   "source": [
    "!python.exe -m pip install --upgrade pip"
   ]
  },
  {
   "cell_type": "code",
   "execution_count": 3,
   "id": "4c9e844d",
   "metadata": {},
   "outputs": [],
   "source": [
    "import pandas as pd"
   ]
  },
  {
   "cell_type": "markdown",
   "id": "7094b48d",
   "metadata": {},
   "source": [
    "A simple dataframe"
   ]
  },
  {
   "cell_type": "code",
   "execution_count": 4,
   "id": "fb1ce958",
   "metadata": {},
   "outputs": [],
   "source": [
    "data = {\n",
    "    'apples': [3, 2, 0, 1], \n",
    "    'oranges': [0, 3, 7, 2]\n",
    "}"
   ]
  },
  {
   "cell_type": "code",
   "execution_count": 5,
   "id": "41cc23dc",
   "metadata": {},
   "outputs": [],
   "source": [
    "purchases = pd.DataFrame(data)"
   ]
  },
  {
   "cell_type": "code",
   "execution_count": 6,
   "id": "8bc496ea",
   "metadata": {},
   "outputs": [
    {
     "data": {
      "text/html": [
       "<div>\n",
       "<style scoped>\n",
       "    .dataframe tbody tr th:only-of-type {\n",
       "        vertical-align: middle;\n",
       "    }\n",
       "\n",
       "    .dataframe tbody tr th {\n",
       "        vertical-align: top;\n",
       "    }\n",
       "\n",
       "    .dataframe thead th {\n",
       "        text-align: right;\n",
       "    }\n",
       "</style>\n",
       "<table border=\"1\" class=\"dataframe\">\n",
       "  <thead>\n",
       "    <tr style=\"text-align: right;\">\n",
       "      <th></th>\n",
       "      <th>apples</th>\n",
       "      <th>oranges</th>\n",
       "    </tr>\n",
       "  </thead>\n",
       "  <tbody>\n",
       "    <tr>\n",
       "      <th>0</th>\n",
       "      <td>3</td>\n",
       "      <td>0</td>\n",
       "    </tr>\n",
       "    <tr>\n",
       "      <th>1</th>\n",
       "      <td>2</td>\n",
       "      <td>3</td>\n",
       "    </tr>\n",
       "    <tr>\n",
       "      <th>2</th>\n",
       "      <td>0</td>\n",
       "      <td>7</td>\n",
       "    </tr>\n",
       "    <tr>\n",
       "      <th>3</th>\n",
       "      <td>1</td>\n",
       "      <td>2</td>\n",
       "    </tr>\n",
       "  </tbody>\n",
       "</table>\n",
       "</div>"
      ],
      "text/plain": [
       "   apples  oranges\n",
       "0       3        0\n",
       "1       2        3\n",
       "2       0        7\n",
       "3       1        2"
      ]
     },
     "execution_count": 6,
     "metadata": {},
     "output_type": "execute_result"
    }
   ],
   "source": [
    "purchases"
   ]
  },
  {
   "cell_type": "code",
   "execution_count": 7,
   "id": "7ad467e1",
   "metadata": {},
   "outputs": [],
   "source": [
    "purchases = pd.DataFrame(data, index=['June', 'Robert', 'Lily', 'David'])"
   ]
  },
  {
   "cell_type": "code",
   "execution_count": 8,
   "id": "9bd79dbf",
   "metadata": {},
   "outputs": [
    {
     "data": {
      "text/html": [
       "<div>\n",
       "<style scoped>\n",
       "    .dataframe tbody tr th:only-of-type {\n",
       "        vertical-align: middle;\n",
       "    }\n",
       "\n",
       "    .dataframe tbody tr th {\n",
       "        vertical-align: top;\n",
       "    }\n",
       "\n",
       "    .dataframe thead th {\n",
       "        text-align: right;\n",
       "    }\n",
       "</style>\n",
       "<table border=\"1\" class=\"dataframe\">\n",
       "  <thead>\n",
       "    <tr style=\"text-align: right;\">\n",
       "      <th></th>\n",
       "      <th>apples</th>\n",
       "      <th>oranges</th>\n",
       "    </tr>\n",
       "  </thead>\n",
       "  <tbody>\n",
       "    <tr>\n",
       "      <th>June</th>\n",
       "      <td>3</td>\n",
       "      <td>0</td>\n",
       "    </tr>\n",
       "    <tr>\n",
       "      <th>Robert</th>\n",
       "      <td>2</td>\n",
       "      <td>3</td>\n",
       "    </tr>\n",
       "    <tr>\n",
       "      <th>Lily</th>\n",
       "      <td>0</td>\n",
       "      <td>7</td>\n",
       "    </tr>\n",
       "    <tr>\n",
       "      <th>David</th>\n",
       "      <td>1</td>\n",
       "      <td>2</td>\n",
       "    </tr>\n",
       "  </tbody>\n",
       "</table>\n",
       "</div>"
      ],
      "text/plain": [
       "        apples  oranges\n",
       "June         3        0\n",
       "Robert       2        3\n",
       "Lily         0        7\n",
       "David        1        2"
      ]
     },
     "execution_count": 8,
     "metadata": {},
     "output_type": "execute_result"
    }
   ],
   "source": [
    "purchases"
   ]
  },
  {
   "cell_type": "code",
   "execution_count": 9,
   "id": "c3abd89c",
   "metadata": {},
   "outputs": [],
   "source": [
    "purchases = pd.read_csv('purchases.csv')"
   ]
  },
  {
   "cell_type": "code",
   "execution_count": 10,
   "id": "71cb233d",
   "metadata": {},
   "outputs": [
    {
     "data": {
      "text/html": [
       "<div>\n",
       "<style scoped>\n",
       "    .dataframe tbody tr th:only-of-type {\n",
       "        vertical-align: middle;\n",
       "    }\n",
       "\n",
       "    .dataframe tbody tr th {\n",
       "        vertical-align: top;\n",
       "    }\n",
       "\n",
       "    .dataframe thead th {\n",
       "        text-align: right;\n",
       "    }\n",
       "</style>\n",
       "<table border=\"1\" class=\"dataframe\">\n",
       "  <thead>\n",
       "    <tr style=\"text-align: right;\">\n",
       "      <th></th>\n",
       "      <th>Unnamed: 0</th>\n",
       "      <th>apples</th>\n",
       "      <th>oranges</th>\n",
       "    </tr>\n",
       "  </thead>\n",
       "  <tbody>\n",
       "    <tr>\n",
       "      <th>0</th>\n",
       "      <td>Mary</td>\n",
       "      <td>3</td>\n",
       "      <td>0</td>\n",
       "    </tr>\n",
       "    <tr>\n",
       "      <th>1</th>\n",
       "      <td>Robert</td>\n",
       "      <td>2</td>\n",
       "      <td>3</td>\n",
       "    </tr>\n",
       "    <tr>\n",
       "      <th>2</th>\n",
       "      <td>Lilly</td>\n",
       "      <td>0</td>\n",
       "      <td>7</td>\n",
       "    </tr>\n",
       "    <tr>\n",
       "      <th>3</th>\n",
       "      <td>David</td>\n",
       "      <td>1</td>\n",
       "      <td>2</td>\n",
       "    </tr>\n",
       "  </tbody>\n",
       "</table>\n",
       "</div>"
      ],
      "text/plain": [
       "  Unnamed: 0  apples  oranges\n",
       "0       Mary       3        0\n",
       "1     Robert       2        3\n",
       "2      Lilly       0        7\n",
       "3      David       1        2"
      ]
     },
     "execution_count": 10,
     "metadata": {},
     "output_type": "execute_result"
    }
   ],
   "source": [
    "purchases"
   ]
  },
  {
   "cell_type": "code",
   "execution_count": 11,
   "id": "57f4df8a",
   "metadata": {},
   "outputs": [],
   "source": [
    "purchases = pd.read_csv('purchases.csv', index_col=0)"
   ]
  },
  {
   "cell_type": "code",
   "execution_count": 12,
   "id": "2dd913e5",
   "metadata": {},
   "outputs": [
    {
     "data": {
      "text/html": [
       "<div>\n",
       "<style scoped>\n",
       "    .dataframe tbody tr th:only-of-type {\n",
       "        vertical-align: middle;\n",
       "    }\n",
       "\n",
       "    .dataframe tbody tr th {\n",
       "        vertical-align: top;\n",
       "    }\n",
       "\n",
       "    .dataframe thead th {\n",
       "        text-align: right;\n",
       "    }\n",
       "</style>\n",
       "<table border=\"1\" class=\"dataframe\">\n",
       "  <thead>\n",
       "    <tr style=\"text-align: right;\">\n",
       "      <th></th>\n",
       "      <th>apples</th>\n",
       "      <th>oranges</th>\n",
       "    </tr>\n",
       "  </thead>\n",
       "  <tbody>\n",
       "    <tr>\n",
       "      <th>Mary</th>\n",
       "      <td>3</td>\n",
       "      <td>0</td>\n",
       "    </tr>\n",
       "    <tr>\n",
       "      <th>Robert</th>\n",
       "      <td>2</td>\n",
       "      <td>3</td>\n",
       "    </tr>\n",
       "    <tr>\n",
       "      <th>Lilly</th>\n",
       "      <td>0</td>\n",
       "      <td>7</td>\n",
       "    </tr>\n",
       "    <tr>\n",
       "      <th>David</th>\n",
       "      <td>1</td>\n",
       "      <td>2</td>\n",
       "    </tr>\n",
       "  </tbody>\n",
       "</table>\n",
       "</div>"
      ],
      "text/plain": [
       "        apples  oranges\n",
       "Mary         3        0\n",
       "Robert       2        3\n",
       "Lilly        0        7\n",
       "David        1        2"
      ]
     },
     "execution_count": 12,
     "metadata": {},
     "output_type": "execute_result"
    }
   ],
   "source": [
    "purchases"
   ]
  },
  {
   "cell_type": "code",
   "execution_count": 13,
   "id": "c112b878",
   "metadata": {},
   "outputs": [],
   "source": [
    "#purchases.to_csv('purchases.csv')"
   ]
  },
  {
   "cell_type": "code",
   "execution_count": 15,
   "id": "e233cd0a",
   "metadata": {},
   "outputs": [
    {
     "data": {
      "text/plain": [
       "apples     0\n",
       "oranges    7\n",
       "Name: Lilly, dtype: int64"
      ]
     },
     "execution_count": 15,
     "metadata": {},
     "output_type": "execute_result"
    }
   ],
   "source": [
    "purchases.loc['Lilly']"
   ]
  },
  {
   "cell_type": "code",
   "execution_count": null,
   "id": "89721f7e",
   "metadata": {},
   "outputs": [],
   "source": [
    "Reading data from files"
   ]
  },
  {
   "cell_type": "code",
   "execution_count": null,
   "id": "05c58381",
   "metadata": {},
   "outputs": [],
   "source": [
    "purchases.to_json('purchases.json')"
   ]
  },
  {
   "cell_type": "code",
   "execution_count": null,
   "id": "63174077",
   "metadata": {},
   "outputs": [],
   "source": [
    "purchases = pd.read_json('purchases.json')"
   ]
  },
  {
   "cell_type": "code",
   "execution_count": null,
   "id": "60476761",
   "metadata": {},
   "outputs": [],
   "source": [
    "purchases"
   ]
  },
  {
   "cell_type": "markdown",
   "id": "dae6f46c",
   "metadata": {},
   "source": [
    "Reading data from an SQl database"
   ]
  },
  {
   "cell_type": "code",
   "execution_count": null,
   "id": "9eb9c764",
   "metadata": {},
   "outputs": [],
   "source": [
    "import sqlite3\n",
    "\n",
    "con = sqlite3.connect(\"database.db\")"
   ]
  },
  {
   "cell_type": "code",
   "execution_count": null,
   "id": "3e7d2836",
   "metadata": {},
   "outputs": [],
   "source": [
    "purchases.to_sql('purchases', con)"
   ]
  },
  {
   "cell_type": "code",
   "execution_count": null,
   "id": "59fbda6c",
   "metadata": {},
   "outputs": [],
   "source": [
    "df = pd.read_sql_query(\"SELECT * FROM purchases\", con)"
   ]
  },
  {
   "cell_type": "code",
   "execution_count": null,
   "id": "c170efa4",
   "metadata": {},
   "outputs": [],
   "source": [
    "df"
   ]
  },
  {
   "cell_type": "code",
   "execution_count": null,
   "id": "7fea9a8a",
   "metadata": {},
   "outputs": [],
   "source": [
    "df = df.set_index('index')"
   ]
  },
  {
   "cell_type": "code",
   "execution_count": null,
   "id": "d53d3075",
   "metadata": {},
   "outputs": [],
   "source": [
    "df"
   ]
  },
  {
   "cell_type": "code",
   "execution_count": null,
   "id": "8bdd4cfc",
   "metadata": {},
   "outputs": [],
   "source": [
    "df = pd.read_sql_query(\"SELECT * FROM purchases\", con, index_col='index')"
   ]
  },
  {
   "cell_type": "code",
   "execution_count": null,
   "id": "5c400481",
   "metadata": {},
   "outputs": [],
   "source": [
    "df"
   ]
  },
  {
   "cell_type": "markdown",
   "id": "2952b05c",
   "metadata": {},
   "source": [
    "DataFrame operations"
   ]
  },
  {
   "cell_type": "code",
   "execution_count": null,
   "id": "3e0b82ba",
   "metadata": {},
   "outputs": [],
   "source": [
    "movies_df = pd.read_csv(\"Pandas\\Tutorial\\IMDB-Movie-Data.csv\", index_col=\"Title\")"
   ]
  },
  {
   "cell_type": "code",
   "execution_count": null,
   "id": "1d10c692",
   "metadata": {},
   "outputs": [],
   "source": [
    "movies_df.head()"
   ]
  },
  {
   "cell_type": "code",
   "execution_count": null,
   "id": "fb660f44",
   "metadata": {},
   "outputs": [],
   "source": [
    "movies_df.head(2)"
   ]
  },
  {
   "cell_type": "code",
   "execution_count": null,
   "id": "a4fce8e6",
   "metadata": {},
   "outputs": [],
   "source": [
    "movies_df.tail(2)"
   ]
  },
  {
   "cell_type": "code",
   "execution_count": null,
   "id": "83899338",
   "metadata": {},
   "outputs": [],
   "source": [
    "print(purchases)"
   ]
  },
  {
   "cell_type": "code",
   "execution_count": null,
   "id": "d5a471b6",
   "metadata": {},
   "outputs": [],
   "source": [
    "movies_df.info()"
   ]
  },
  {
   "cell_type": "code",
   "execution_count": null,
   "id": "8d40e7d4",
   "metadata": {},
   "outputs": [],
   "source": [
    "movies_df.shape"
   ]
  },
  {
   "cell_type": "markdown",
   "id": "ca44b126",
   "metadata": {},
   "source": [
    "Handling duplicates"
   ]
  },
  {
   "cell_type": "code",
   "execution_count": null,
   "id": "43044762",
   "metadata": {},
   "outputs": [],
   "source": [
    "temp_df = pd.concat([movies_df, movies_df])"
   ]
  },
  {
   "cell_type": "code",
   "execution_count": null,
   "id": "ded2441c",
   "metadata": {},
   "outputs": [],
   "source": [
    "temp_df.shape"
   ]
  },
  {
   "cell_type": "code",
   "execution_count": null,
   "id": "90089900",
   "metadata": {},
   "outputs": [],
   "source": [
    "temp_df = temp_df.drop_duplicates()"
   ]
  },
  {
   "cell_type": "code",
   "execution_count": null,
   "id": "805be7da",
   "metadata": {},
   "outputs": [],
   "source": [
    "temp_df.shape"
   ]
  },
  {
   "cell_type": "code",
   "execution_count": null,
   "id": "a263d8d6",
   "metadata": {},
   "outputs": [],
   "source": [
    "temp_df = pd.concat([movies_df, movies_df])"
   ]
  },
  {
   "cell_type": "code",
   "execution_count": null,
   "id": "b4961b53",
   "metadata": {},
   "outputs": [],
   "source": [
    "temp_df.shape"
   ]
  },
  {
   "cell_type": "code",
   "execution_count": null,
   "id": "7c204947",
   "metadata": {},
   "outputs": [],
   "source": [
    "temp_df.drop_duplicates(inplace=True)"
   ]
  },
  {
   "cell_type": "code",
   "execution_count": null,
   "id": "e2072f33",
   "metadata": {},
   "outputs": [],
   "source": [
    "temp_df.shape"
   ]
  },
  {
   "cell_type": "code",
   "execution_count": null,
   "id": "b5740115",
   "metadata": {},
   "outputs": [],
   "source": [
    "movies_df.columns"
   ]
  },
  {
   "cell_type": "code",
   "execution_count": null,
   "id": "ad326f8a",
   "metadata": {},
   "outputs": [],
   "source": [
    "movies_df.rename(columns={\n",
    "        'Runtime (Minutes)': 'Runtime', \n",
    "        'Revenue (Millions)': 'Revenue_millions'\n",
    "    }, inplace=True)\n"
   ]
  },
  {
   "cell_type": "code",
   "execution_count": null,
   "id": "3e13cdbe",
   "metadata": {},
   "outputs": [],
   "source": [
    "movies_df.columns"
   ]
  },
  {
   "cell_type": "code",
   "execution_count": null,
   "id": "1fd3d90a",
   "metadata": {},
   "outputs": [],
   "source": [
    "movies_df.columns = [col.lower() for col in movies_df]"
   ]
  },
  {
   "cell_type": "code",
   "execution_count": null,
   "id": "b9b92d11",
   "metadata": {},
   "outputs": [],
   "source": [
    "movies_df.columns"
   ]
  },
  {
   "cell_type": "markdown",
   "id": "7da4ea26",
   "metadata": {},
   "source": [
    "Missing Values"
   ]
  },
  {
   "cell_type": "code",
   "execution_count": null,
   "id": "6ebd7308",
   "metadata": {},
   "outputs": [],
   "source": [
    "movies_df.isnull()"
   ]
  },
  {
   "cell_type": "code",
   "execution_count": null,
   "id": "7b95982a",
   "metadata": {},
   "outputs": [],
   "source": [
    "movies_df.isnull().sum()"
   ]
  },
  {
   "cell_type": "code",
   "execution_count": null,
   "id": "c5ba0d40",
   "metadata": {},
   "outputs": [],
   "source": [
    "movies_df.dropna()"
   ]
  },
  {
   "cell_type": "markdown",
   "id": "33bafe3e",
   "metadata": {},
   "source": [
    "Imputation"
   ]
  },
  {
   "cell_type": "code",
   "execution_count": null,
   "id": "890b97f2",
   "metadata": {},
   "outputs": [],
   "source": [
    "revenue = movies_df['revenue_millions']"
   ]
  },
  {
   "cell_type": "code",
   "execution_count": null,
   "id": "f85b5a72",
   "metadata": {},
   "outputs": [],
   "source": [
    "revenue.head()"
   ]
  },
  {
   "cell_type": "code",
   "execution_count": null,
   "id": "1241f129",
   "metadata": {},
   "outputs": [],
   "source": [
    "revenue_mean = revenue.mean()"
   ]
  },
  {
   "cell_type": "code",
   "execution_count": null,
   "id": "e58ff8a6",
   "metadata": {},
   "outputs": [],
   "source": [
    "revenue.mean"
   ]
  },
  {
   "cell_type": "code",
   "execution_count": null,
   "id": "72a7d8d7",
   "metadata": {},
   "outputs": [],
   "source": [
    "revenue.fillna(revenue_mean, inplace=True)"
   ]
  },
  {
   "cell_type": "code",
   "execution_count": null,
   "id": "35219dbb",
   "metadata": {},
   "outputs": [],
   "source": [
    "movies_df.isnull().sum()"
   ]
  },
  {
   "cell_type": "code",
   "execution_count": null,
   "id": "71592ba0",
   "metadata": {},
   "outputs": [],
   "source": [
    "movies_df.describe()"
   ]
  },
  {
   "cell_type": "code",
   "execution_count": null,
   "id": "5376fd9f",
   "metadata": {},
   "outputs": [],
   "source": [
    "movies_df['genre'].describe()"
   ]
  },
  {
   "cell_type": "code",
   "execution_count": null,
   "id": "02da2692",
   "metadata": {},
   "outputs": [],
   "source": [
    "movies_df['genre'].value_counts().head(10)"
   ]
  },
  {
   "cell_type": "markdown",
   "id": "9dd36f5b",
   "metadata": {},
   "source": [
    "Relationships between continuous variables"
   ]
  },
  {
   "cell_type": "code",
   "execution_count": null,
   "id": "c065dfca",
   "metadata": {},
   "outputs": [],
   "source": [
    "movies_df.corr(numeric_only=True)"
   ]
  },
  {
   "cell_type": "markdown",
   "id": "576e27c2",
   "metadata": {},
   "source": [
    "DataFrame slicing, selecting, extracting"
   ]
  },
  {
   "cell_type": "code",
   "execution_count": null,
   "id": "13fa6cec",
   "metadata": {},
   "outputs": [],
   "source": [
    "genre_col = movies_df['genre']"
   ]
  },
  {
   "cell_type": "code",
   "execution_count": null,
   "id": "de4d967b",
   "metadata": {},
   "outputs": [],
   "source": [
    "type(genre_col)"
   ]
  },
  {
   "cell_type": "code",
   "execution_count": null,
   "id": "417a9b4e",
   "metadata": {},
   "outputs": [],
   "source": [
    "genre_col = movies_df[['genre']]"
   ]
  },
  {
   "cell_type": "code",
   "execution_count": null,
   "id": "30f2333b",
   "metadata": {},
   "outputs": [],
   "source": [
    "type(genre_col)"
   ]
  },
  {
   "cell_type": "code",
   "execution_count": null,
   "id": "457c54c6",
   "metadata": {},
   "outputs": [],
   "source": [
    "subset = movies_df[['genre', 'rating']]\n",
    "\n",
    "subset.head()"
   ]
  },
  {
   "cell_type": "code",
   "execution_count": null,
   "id": "4b1dfbb4",
   "metadata": {},
   "outputs": [],
   "source": [
    "prom = movies_df.loc[\"Prometheus\"]\n",
    "\n",
    "prom"
   ]
  },
  {
   "cell_type": "code",
   "execution_count": null,
   "id": "f9ae0f5f",
   "metadata": {},
   "outputs": [],
   "source": [
    "prom = movies_df.iloc[1]\n",
    "\n",
    "prom"
   ]
  },
  {
   "cell_type": "code",
   "execution_count": null,
   "id": "49cd6acd",
   "metadata": {},
   "outputs": [],
   "source": [
    "movie_subset = movies_df.loc['Prometheus':'Sing']\n",
    "\n",
    "movie_subset"
   ]
  },
  {
   "cell_type": "code",
   "execution_count": null,
   "id": "4b6b8d34",
   "metadata": {},
   "outputs": [],
   "source": [
    "movie_subset = movies_df.iloc[1:4]\n",
    "\n",
    "movie_subset"
   ]
  },
  {
   "cell_type": "code",
   "execution_count": null,
   "id": "3f7133f3",
   "metadata": {},
   "outputs": [],
   "source": [
    "condition = (movies_df['director'] == \"Ridley Scott\")\n",
    "\n",
    "condition.head()"
   ]
  },
  {
   "cell_type": "code",
   "execution_count": null,
   "id": "06aad303",
   "metadata": {},
   "outputs": [],
   "source": [
    "movies_df[movies_df['director'] == \"Ridley Scott\"]"
   ]
  },
  {
   "cell_type": "code",
   "execution_count": null,
   "id": "c3964d85",
   "metadata": {},
   "outputs": [],
   "source": [
    "movies_df[movies_df['rating'] >= 8.6].head(3)"
   ]
  },
  {
   "cell_type": "code",
   "execution_count": null,
   "id": "49ba2150",
   "metadata": {},
   "outputs": [],
   "source": [
    "movies_df[(movies_df['director'] == 'Christopher Nolan') | (movies_df['director'] == 'Ridley Scott')].head()"
   ]
  },
  {
   "cell_type": "code",
   "execution_count": null,
   "id": "c3208cd5",
   "metadata": {},
   "outputs": [],
   "source": [
    "movies_df[movies_df['director'].isin(['Christopher Nolan', 'Ridley Scott'])].head()"
   ]
  },
  {
   "cell_type": "code",
   "execution_count": null,
   "id": "ebf61235",
   "metadata": {},
   "outputs": [],
   "source": [
    "movies_df[\n",
    "    ((movies_df['year'] >= 2005) & (movies_df['year'] <= 2010))\n",
    "    & (movies_df['rating'] > 8.0)\n",
    "    & (movies_df['revenue_millions'] < movies_df['revenue_millions'].quantile(0.25))\n",
    "]\n"
   ]
  },
  {
   "cell_type": "markdown",
   "id": "c9b336a2",
   "metadata": {},
   "source": [
    "Applying Functions"
   ]
  },
  {
   "cell_type": "code",
   "execution_count": null,
   "id": "fade3e34",
   "metadata": {},
   "outputs": [],
   "source": [
    "def rating_function(x):\n",
    "    if x >= 8.0:\n",
    "        return \"good\"\n",
    "    else:\n",
    "        return \"bad\""
   ]
  },
  {
   "cell_type": "code",
   "execution_count": null,
   "id": "7ef404b3",
   "metadata": {},
   "outputs": [],
   "source": [
    "movies_df[\"rating_category\"] = movies_df[\"rating\"].apply(rating_function)\n",
    "\n",
    "movies_df.head(2)"
   ]
  },
  {
   "cell_type": "code",
   "execution_count": null,
   "id": "69071334",
   "metadata": {},
   "outputs": [],
   "source": [
    "movies_df[\"rating_category\"] = movies_df[\"rating\"].apply(lambda x: 'good' if x >= 8.0 else 'bad')\n",
    "\n",
    "movies_df.head(2)"
   ]
  },
  {
   "cell_type": "markdown",
   "id": "30760ad6",
   "metadata": {},
   "source": [
    "Plotting"
   ]
  },
  {
   "cell_type": "markdown",
   "id": "5aded3bf",
   "metadata": {},
   "source": [
    "For categorical variables utilize Bar Charts* and Boxplots.\n",
    "\n",
    "For continuous variables utilize Histograms, Scatterplots, Line graphs, and Boxplots."
   ]
  },
  {
   "cell_type": "code",
   "execution_count": null,
   "id": "71a338ac",
   "metadata": {},
   "outputs": [],
   "source": [
    "movies_df.plot(kind='scatter', x='rating', y='revenue_millions', title='Revenue (millions) vs Rating');"
   ]
  },
  {
   "cell_type": "code",
   "execution_count": null,
   "id": "ca79cfdd",
   "metadata": {},
   "outputs": [],
   "source": [
    "movies_df['rating'].plot(kind='hist', title='Rating');"
   ]
  },
  {
   "cell_type": "code",
   "execution_count": null,
   "id": "7bf47bd7",
   "metadata": {},
   "outputs": [],
   "source": [
    "movies_df['rating'].describe()"
   ]
  },
  {
   "cell_type": "code",
   "execution_count": null,
   "id": "9e41257c",
   "metadata": {},
   "outputs": [],
   "source": [
    "movies_df['rating'].plot(kind=\"box\");"
   ]
  },
  {
   "cell_type": "code",
   "execution_count": null,
   "id": "54513b91",
   "metadata": {},
   "outputs": [],
   "source": [
    "movies_df.boxplot(column='revenue_millions', by='rating_category');"
   ]
  },
  {
   "cell_type": "markdown",
   "id": "1e4de4f6",
   "metadata": {},
   "source": [
    "References\n",
    "https://www.learndatasci.com/tutorials/python-pandas-tutorial-complete-introduction-for-beginners/"
   ]
  }
 ],
 "metadata": {
  "kernelspec": {
   "display_name": "Python 3 (ipykernel)",
   "language": "python",
   "name": "python3"
  },
  "language_info": {
   "codemirror_mode": {
    "name": "ipython",
    "version": 3
   },
   "file_extension": ".py",
   "mimetype": "text/x-python",
   "name": "python",
   "nbconvert_exporter": "python",
   "pygments_lexer": "ipython3",
   "version": "3.9.13"
  }
 },
 "nbformat": 4,
 "nbformat_minor": 5
}
