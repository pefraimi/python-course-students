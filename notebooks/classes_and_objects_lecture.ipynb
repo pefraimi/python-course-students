{
 "cells": [
  {
   "cell_type": "code",
   "execution_count": 68,
   "id": "34bed1f1",
   "metadata": {},
   "outputs": [],
   "source": [
    "class Person:\n",
    "    serial_number = 0\n",
    "    \n",
    "    def __init__(self, name, job=None, pay=0):\n",
    "        self.name = name\n",
    "        self.job = job\n",
    "        self.pay = pay\n",
    "        self.id = Person.serial_number\n",
    "        Person.serial_number += 1\n",
    "    \n",
    "    def __str__(self):\n",
    "        return f'Person {self.name} {self.job} {self.pay} {self.id}'\n",
    "    \n",
    "    def giveRaise(self, percent):\n",
    "        self.pay = int(self.pay * (1 + percent))"
   ]
  },
  {
   "cell_type": "code",
   "execution_count": 69,
   "id": "72f3fa1a",
   "metadata": {},
   "outputs": [],
   "source": [
    "bob = Person('Bob', 'Engineer', 30000)\n",
    "sue = Person('Sue')"
   ]
  },
  {
   "cell_type": "code",
   "execution_count": 71,
   "id": "f56c055d",
   "metadata": {},
   "outputs": [
    {
     "name": "stdout",
     "output_type": "stream",
     "text": [
      "Person Bob Engineer 30000 0\n"
     ]
    }
   ],
   "source": [
    "print(bob)"
   ]
  },
  {
   "cell_type": "code",
   "execution_count": 72,
   "id": "bf1a9948",
   "metadata": {},
   "outputs": [
    {
     "name": "stdout",
     "output_type": "stream",
     "text": [
      "Bob\n"
     ]
    }
   ],
   "source": [
    "print(bob.name)"
   ]
  },
  {
   "cell_type": "code",
   "execution_count": 74,
   "id": "fc9b474f",
   "metadata": {},
   "outputs": [
    {
     "name": "stdout",
     "output_type": "stream",
     "text": [
      "Person Sue None 0 1\n"
     ]
    }
   ],
   "source": [
    "print(sue)"
   ]
  },
  {
   "cell_type": "code",
   "execution_count": 75,
   "id": "8bb4129b",
   "metadata": {},
   "outputs": [],
   "source": [
    "bob.giveRaise(.10)"
   ]
  },
  {
   "cell_type": "code",
   "execution_count": 76,
   "id": "3f5a3181",
   "metadata": {},
   "outputs": [
    {
     "name": "stdout",
     "output_type": "stream",
     "text": [
      "33000\n"
     ]
    }
   ],
   "source": [
    "print(bob.pay)"
   ]
  },
  {
   "cell_type": "code",
   "execution_count": 77,
   "id": "3552795c",
   "metadata": {},
   "outputs": [
    {
     "name": "stdout",
     "output_type": "stream",
     "text": [
      "Person Bob Engineer 33000 0\n"
     ]
    }
   ],
   "source": [
    "print(bob)"
   ]
  },
  {
   "cell_type": "code",
   "execution_count": 78,
   "id": "f5972b23",
   "metadata": {},
   "outputs": [
    {
     "data": {
      "text/plain": [
       "'Person Bob Engineer 33000 0'"
      ]
     },
     "execution_count": 78,
     "metadata": {},
     "output_type": "execute_result"
    }
   ],
   "source": [
    "bob.__str__()"
   ]
  },
  {
   "cell_type": "code",
   "execution_count": 79,
   "id": "b5b89af3",
   "metadata": {},
   "outputs": [
    {
     "data": {
      "text/plain": [
       "'Person Bob Engineer 33000 0'"
      ]
     },
     "execution_count": 79,
     "metadata": {},
     "output_type": "execute_result"
    }
   ],
   "source": [
    "Person.__str__(bob)"
   ]
  },
  {
   "cell_type": "code",
   "execution_count": 80,
   "id": "e140f3d3",
   "metadata": {},
   "outputs": [
    {
     "name": "stdout",
     "output_type": "stream",
     "text": [
      "0\n"
     ]
    }
   ],
   "source": [
    "print(sue.pay)"
   ]
  },
  {
   "cell_type": "code",
   "execution_count": 81,
   "id": "3379df19",
   "metadata": {},
   "outputs": [],
   "source": [
    "sue.pay = 40000"
   ]
  },
  {
   "cell_type": "code",
   "execution_count": 82,
   "id": "aefa26ab",
   "metadata": {},
   "outputs": [
    {
     "name": "stdout",
     "output_type": "stream",
     "text": [
      "40000\n"
     ]
    }
   ],
   "source": [
    "print(sue.pay)"
   ]
  },
  {
   "cell_type": "code",
   "execution_count": 83,
   "id": "420d2b3c",
   "metadata": {},
   "outputs": [
    {
     "name": "stdout",
     "output_type": "stream",
     "text": [
      "33000\n"
     ]
    }
   ],
   "source": [
    "print(bob.pay)"
   ]
  },
  {
   "cell_type": "code",
   "execution_count": 84,
   "id": "b1842c92",
   "metadata": {},
   "outputs": [],
   "source": [
    "carl = Person('Carl', 'Security', 20000)"
   ]
  },
  {
   "cell_type": "code",
   "execution_count": 85,
   "id": "8c8db4fd",
   "metadata": {},
   "outputs": [
    {
     "name": "stdout",
     "output_type": "stream",
     "text": [
      "20000\n"
     ]
    }
   ],
   "source": [
    "print(carl.pay)"
   ]
  },
  {
   "cell_type": "code",
   "execution_count": 86,
   "id": "0213e6c4",
   "metadata": {},
   "outputs": [
    {
     "name": "stdout",
     "output_type": "stream",
     "text": [
      "Person Carl Security 20000 2\n"
     ]
    }
   ],
   "source": [
    "print(carl)"
   ]
  },
  {
   "cell_type": "code",
   "execution_count": 87,
   "id": "61f90e06",
   "metadata": {},
   "outputs": [
    {
     "name": "stdout",
     "output_type": "stream",
     "text": [
      "3\n"
     ]
    }
   ],
   "source": [
    "print(Person.serial_number)"
   ]
  },
  {
   "cell_type": "code",
   "execution_count": 88,
   "id": "584786f4",
   "metadata": {},
   "outputs": [
    {
     "name": "stdout",
     "output_type": "stream",
     "text": [
      "0\n"
     ]
    }
   ],
   "source": [
    "print(bob.id)"
   ]
  },
  {
   "cell_type": "code",
   "execution_count": 90,
   "id": "1140cc63",
   "metadata": {},
   "outputs": [
    {
     "name": "stdout",
     "output_type": "stream",
     "text": [
      "1\n"
     ]
    }
   ],
   "source": [
    "print(sue.id)"
   ]
  },
  {
   "cell_type": "code",
   "execution_count": 91,
   "id": "6ca09dda",
   "metadata": {},
   "outputs": [
    {
     "name": "stdout",
     "output_type": "stream",
     "text": [
      "2\n"
     ]
    }
   ],
   "source": [
    "print(carl.id)"
   ]
  },
  {
   "cell_type": "code",
   "execution_count": 92,
   "id": "9a917dfc",
   "metadata": {},
   "outputs": [],
   "source": [
    "Person.serial_number=100"
   ]
  },
  {
   "cell_type": "code",
   "execution_count": 93,
   "id": "56a3d318",
   "metadata": {},
   "outputs": [],
   "source": [
    "sofia = Person('Sofia', 'HR', 30000)"
   ]
  },
  {
   "cell_type": "code",
   "execution_count": 94,
   "id": "6eef72f3",
   "metadata": {},
   "outputs": [
    {
     "name": "stdout",
     "output_type": "stream",
     "text": [
      "Person Sofia HR 30000 100\n"
     ]
    }
   ],
   "source": [
    "print(sofia)"
   ]
  },
  {
   "cell_type": "code",
   "execution_count": 95,
   "id": "5e457817",
   "metadata": {},
   "outputs": [
    {
     "name": "stdout",
     "output_type": "stream",
     "text": [
      "101\n"
     ]
    }
   ],
   "source": [
    "print(Person.serial_number)"
   ]
  },
  {
   "cell_type": "code",
   "execution_count": 104,
   "id": "879e3ab5",
   "metadata": {},
   "outputs": [],
   "source": [
    "class Manager(Person):\n",
    "    def __init__(self, name, pay):\n",
    "        Person.__init__(self, name, 'Manager', pay)\n",
    "    def giveRaise(self, percent, bonus=0.05):\n",
    "        Person.giveRaise(self, percent + bonus)"
   ]
  },
  {
   "cell_type": "code",
   "execution_count": 105,
   "id": "cc06b245",
   "metadata": {},
   "outputs": [],
   "source": [
    "helen = Manager('Helen', pay=40000)"
   ]
  },
  {
   "cell_type": "code",
   "execution_count": 106,
   "id": "d52ff2b7",
   "metadata": {},
   "outputs": [
    {
     "name": "stdout",
     "output_type": "stream",
     "text": [
      "Person Helen Manager 30000 103\n"
     ]
    }
   ],
   "source": [
    "print(helen)"
   ]
  },
  {
   "cell_type": "code",
   "execution_count": 102,
   "id": "b32dc4cf",
   "metadata": {},
   "outputs": [],
   "source": [
    "helen.giveRaise(0.05)"
   ]
  },
  {
   "cell_type": "code",
   "execution_count": 103,
   "id": "7c52a626",
   "metadata": {},
   "outputs": [
    {
     "name": "stdout",
     "output_type": "stream",
     "text": [
      "Person Helen None 33000 102\n"
     ]
    }
   ],
   "source": [
    "print(helen)"
   ]
  },
  {
   "cell_type": "code",
   "execution_count": 107,
   "id": "75b9a84d",
   "metadata": {},
   "outputs": [],
   "source": [
    "employees = [bob, carl, sue, sofia, helen]"
   ]
  },
  {
   "cell_type": "markdown",
   "id": "1141fea1",
   "metadata": {},
   "source": [
    "Polymorphism"
   ]
  },
  {
   "cell_type": "code",
   "execution_count": 108,
   "id": "96754425",
   "metadata": {},
   "outputs": [],
   "source": [
    "for p in employees:\n",
    "    p.giveRaise(0.10)"
   ]
  },
  {
   "cell_type": "markdown",
   "id": "2bc9767d",
   "metadata": {},
   "source": [
    "Overloading"
   ]
  },
  {
   "cell_type": "code",
   "execution_count": 109,
   "id": "e1588b4b",
   "metadata": {},
   "outputs": [],
   "source": [
    "class Number:\n",
    "    def __init__(self, start): # On Number(start)\n",
    "        self.data = start\n",
    "    def __sub__(self, other): # On instance - other\n",
    "        return Number(self.data - other)"
   ]
  },
  {
   "cell_type": "code",
   "execution_count": 110,
   "id": "34e0dc17",
   "metadata": {},
   "outputs": [
    {
     "data": {
      "text/plain": [
       "3"
      ]
     },
     "execution_count": 110,
     "metadata": {},
     "output_type": "execute_result"
    }
   ],
   "source": [
    "X = Number(5) # Number.__init__(X, 5)\n",
    "Y = X - 2 # Number.__sub__(X, 2)\n",
    "Y.data"
   ]
  },
  {
   "cell_type": "markdown",
   "id": "ad25bd5d",
   "metadata": {},
   "source": [
    "Serialization"
   ]
  },
  {
   "cell_type": "code",
   "execution_count": 117,
   "id": "c950c6ba",
   "metadata": {},
   "outputs": [
    {
     "name": "stdout",
     "output_type": "stream",
     "text": [
      "Person Bob Engineer 30000 104\n",
      "Person Carl Security 20000 107\n",
      "Person Sue None 0 105\n",
      "Person Sofia HR 30000 108\n",
      "Person Helen Manager 40000 106\n"
     ]
    }
   ],
   "source": [
    "import pickle\n",
    "\n",
    "bob = Person('Bob', 'Engineer', 30000)\n",
    "sue = Person('Sue')\n",
    "helen = Manager('Helen', pay=40000)\n",
    "carl = Person('Carl', 'Security', 20000)\n",
    "sofia = Person('Sofia', 'HR', 30000)\n",
    "\n",
    "db = [bob, carl, sue, sofia, helen]\n",
    "\n",
    "# Store Data (Serilization)\n",
    "# Its important to use binary mode\n",
    "dbfile = open('personPickle', 'ab')\n",
    "# source, destination\n",
    "pickle.dump(db, dbfile)\n",
    "dbfile.close()\n",
    "\n",
    "# Load Data (Deserialization)\n",
    "# for reading also binary mode is important\n",
    "dbfile = open('personPickle', 'rb')\n",
    "db = pickle.load(dbfile)\n",
    "for p in db:\n",
    "    print(p)\n",
    "dbfile.close()"
   ]
  },
  {
   "cell_type": "code",
   "execution_count": null,
   "id": "4baa65f5",
   "metadata": {},
   "outputs": [],
   "source": []
  }
 ],
 "metadata": {
  "kernelspec": {
   "display_name": "Python 3 (ipykernel)",
   "language": "python",
   "name": "python3"
  },
  "language_info": {
   "codemirror_mode": {
    "name": "ipython",
    "version": 3
   },
   "file_extension": ".py",
   "mimetype": "text/x-python",
   "name": "python",
   "nbconvert_exporter": "python",
   "pygments_lexer": "ipython3",
   "version": "3.9.13"
  }
 },
 "nbformat": 4,
 "nbformat_minor": 5
}
